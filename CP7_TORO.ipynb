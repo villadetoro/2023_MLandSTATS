{
 "cells": [
  {
   "cell_type": "markdown",
   "id": "8921ef18",
   "metadata": {},
   "source": [
    "# CP7: Hypothesis testing: Type-I and Type-II errors; Likelihood ratios"
   ]
  },
  {
   "cell_type": "code",
   "execution_count": 6,
   "id": "4e430f5d",
   "metadata": {},
   "outputs": [],
   "source": [
    "import numpy as np\n",
    "import matplotlib.pyplot as plt\n",
    "%matplotlib inline"
   ]
  },
  {
   "cell_type": "markdown",
   "id": "6d0aeb3e",
   "metadata": {},
   "source": [
    "## Problem #1 (2 points)"
   ]
  },
  {
   "cell_type": "markdown",
   "id": "e192490d",
   "metadata": {},
   "source": [
    "**A company manufacturing computer monitors claims that the faulty rate of the screen population is 5%. We want to test if the claim is true. We have ordered a sample of 100 monitors to test. We choose t_cut = 9 as the maximum number of faulty monitors that we are willing to have and still accept that the manufacturer’s claim is true.**"
   ]
  },
  {
   "cell_type": "markdown",
   "id": "fea02ba1",
   "metadata": {},
   "source": [
    "**(a) What is the significance level (Type-I error), α, of the chosen threshold?**"
   ]
  },
  {
   "cell_type": "code",
   "execution_count": 104,
   "id": "abf60dcd",
   "metadata": {},
   "outputs": [],
   "source": [
    "from scipy.stats import binom\n",
    "from scipy import integrate\n"
   ]
  },
  {
   "cell_type": "code",
   "execution_count": 105,
   "id": "1b71b56b",
   "metadata": {},
   "outputs": [],
   "source": [
    "tot_t = 100 # number of samples\n",
    "t_cut = 9\n",
    "claimed_hypothesis = 0.05"
   ]
  },
  {
   "cell_type": "code",
   "execution_count": 109,
   "id": "897f4e11",
   "metadata": {},
   "outputs": [],
   "source": [
    "n, p = tot_t, claimed_hypothesis\n"
   ]
  },
  {
   "cell_type": "code",
   "execution_count": 110,
   "id": "178c60b6",
   "metadata": {},
   "outputs": [],
   "source": [
    "prob  = integrate.quad(binom.pmf, -np.inf, t_cut, args = (n, p))"
   ]
  },
  {
   "cell_type": "code",
   "execution_count": 112,
   "id": "ebf26405",
   "metadata": {},
   "outputs": [
    {
     "name": "stdout",
     "output_type": "stream",
     "text": [
      "Alpha = 0.04554060520399439\n"
     ]
    }
   ],
   "source": [
    "alpha = 1 - prob[0]\n",
    "print(\"Alpha = \" + str(alpha))\n"
   ]
  },
  {
   "cell_type": "markdown",
   "id": "70e541c7",
   "metadata": {},
   "source": [
    "**(b) What is the probability β of a Type-II error if the true faulty rate is 15%?\n",
    "NB: we can only compute the Type-II error for a concrete H1 scenario (i.e. fixed faulty rate), but not if the faulty rate is unknown!**"
   ]
  },
  {
   "cell_type": "markdown",
   "id": "7185381d",
   "metadata": {},
   "source": [
    "**Hint: Use scipy.stats.binom (scipy’s binomial distribution) and its method pmf.**"
   ]
  },
  {
   "cell_type": "code",
   "execution_count": 113,
   "id": "39acc00a",
   "metadata": {},
   "outputs": [],
   "source": [
    "true_hypothesis = 0.15"
   ]
  },
  {
   "cell_type": "code",
   "execution_count": 114,
   "id": "f1cdbac2",
   "metadata": {},
   "outputs": [],
   "source": [
    "n2, p2 = tot_t, 0.15\n"
   ]
  },
  {
   "cell_type": "code",
   "execution_count": 115,
   "id": "a983ddb1",
   "metadata": {},
   "outputs": [],
   "source": [
    "prob2  = integrate.quad(binom.pmf, t_cut, np.inf,args = (n2, p2))"
   ]
  },
  {
   "cell_type": "code",
   "execution_count": 117,
   "id": "9c60a46d",
   "metadata": {},
   "outputs": [
    {
     "name": "stdout",
     "output_type": "stream",
     "text": [
      "Beta = 0.0400644070342111\n"
     ]
    }
   ],
   "source": [
    "beta = 1 - prob2[0]\n",
    "print(\"Beta = \" + str(beta))"
   ]
  },
  {
   "cell_type": "markdown",
   "id": "aa160b8d",
   "metadata": {},
   "source": [
    "## Problem #2 (3 points)"
   ]
  },
  {
   "cell_type": "markdown",
   "id": "e89ae57c",
   "metadata": {},
   "source": [
    "**A Time-of-Flight (ToF) system designed to separate kaons (mK = 493.7 MeV/c2) from pions (mπ = 139.6 MeV/c2) consists of two scintillation counters that are a distance L = 20 m apart. For a particle with mass m and momentum p, the time needed to travel between the two scintillators is**"
   ]
  },
  {
   "cell_type": "markdown",
   "id": "d2184ce4",
   "metadata": {},
   "source": [
    "**t = L/c x sqrt( 1 + (mc/p)^2)**"
   ]
  },
  {
   "cell_type": "markdown",
   "id": "2f9b5fcd",
   "metadata": {},
   "source": [
    "**where c = 3 × 10^8 m/s is the speed of light in vacuum.\n",
    "The time resolution of the ToF system is σ = 400 ps (i.e. for an average time t, the time reported by the system follows a Gaussian distribution with mean t and width σ)^**"
   ]
  },
  {
   "cell_type": "markdown",
   "id": "9cd9d086",
   "metadata": {},
   "source": [
    "**(a) Write a Gaussian class that calculates the integral between an arbitrary point xval and ±∞. Name these methods integralAbove and integralBelow, to be used for calculating α and β values, as discussed below.\n",
    "Hint: You should try to recycle some of the code developed for the Week-8, CP #5 in order to save time. Be careful to choose practical values for ±∞!**"
   ]
  },
  {
   "cell_type": "code",
   "execution_count": 58,
   "id": "090325c8",
   "metadata": {},
   "outputs": [],
   "source": [
    "sigma = 0.608  # = 400 ps (converted to natural units)"
   ]
  },
  {
   "cell_type": "code",
   "execution_count": 60,
   "id": "36dabeb1",
   "metadata": {},
   "outputs": [],
   "source": [
    "from scipy.stats import norm"
   ]
  },
  {
   "cell_type": "code",
   "execution_count": 61,
   "id": "580af3a9",
   "metadata": {},
   "outputs": [],
   "source": [
    "# class to model the signal distribution \n",
    "class Gaussian:\n",
    "\n",
    "    def __init__(self, t, sigma = sigma):\n",
    "        self.mean = t\n",
    "        self.sigma = sigma\n",
    "        self.distribution = norm(self.mean, self.sigma).pdf\n",
    "        \n",
    "        \n",
    "    def integralAbove(self, xval):\n",
    "        #distribution = lambda x: 1/(self.sigma*np.sqrt(2*np.pi)) * np.exp(-(np.array(x)-self.mean)**2 / (2*(self.sigma**2))) \n",
    "        return integrate.quad(self.distribution, xval, np.inf)[0]\n",
    "    \n",
    "    \n",
    "    def intergalBelow(self, xval):\n",
    "        #distribution = lambda x: 1/(self.sigma*np.sqrt(2*np.pi)) * np.exp(-(np.array(x)-self.mean)**2 / (2*(self.sigma**2))) \n",
    "        return integrate.quad(self.distribution , -np.inf, xval)[0]\n",
    "    "
   ]
  },
  {
   "cell_type": "markdown",
   "id": "ff54a0f7",
   "metadata": {},
   "source": [
    "**(b) Create another class ROC that calculates (αi, βi) pairs of ToF performance for distinguishing between pions and kaons for a given momentum p and an arbitray threeshold t^i_cut. Use the class to produce 100 performace points evenly spaced between the average travel times for kaons and pions**"
   ]
  },
  {
   "cell_type": "code",
   "execution_count": 62,
   "id": "967211ef",
   "metadata": {},
   "outputs": [],
   "source": [
    "class ROC:\n",
    "    \n",
    "    def __init__(self, p):\n",
    "\n",
    "        self.m_kaon = 0.4937 # GeV/c^2 \n",
    "        self.m_pion = 0.1396 # GeV/c^2\n",
    "        self.L = 101.5  # = 20m (converted to natural units)\n",
    "\n",
    "        self.momentum = p\n",
    "        \n",
    "\n",
    "    def pair(self):\n",
    "\n",
    "        # arrays to store alphas and betas\n",
    "        alphas = np.zeros(100)\n",
    "        betas = np.zeros(100)\n",
    "\n",
    "        time_kaon = self.L*np.sqrt(1 + (self.m_kaon/self.momentum)**2)\n",
    "        time_pion = self.L*np.sqrt(1 + (self.m_pion/self.momentum)**2)\n",
    "\n",
    "        gauss_kaon = Gaussian(time_kaon)\n",
    "        gauss_pion = Gaussian(time_pion)\n",
    "\n",
    "        N = 100\n",
    "        t_cut = np.linspace(time_pion, time_kaon, N)\n",
    "\n",
    "        for i in range(N):\n",
    "\n",
    "            alpha = gauss_kaon.intergalBelow(t_cut[i])\n",
    "            beta = gauss_pion.integralAbove(t_cut[i])\n",
    "\n",
    "            alphas[i] = alpha\n",
    "            betas[i] = beta\n",
    "\n",
    "        return alphas, betas\n",
    "\n",
    "\n",
    "  \n",
    "\n",
    "        \n",
    "        "
   ]
  },
  {
   "cell_type": "markdown",
   "id": "52b9e85f",
   "metadata": {},
   "source": [
    "**(c) Create a single plot that overlays the ROC kaon-pion separation curves for p = 3 GeV/c, p = 4 GeV/c and p = 6 GeV/c. Which momentum value gives better performance and why?**"
   ]
  },
  {
   "cell_type": "markdown",
   "id": "3026a221",
   "metadata": {},
   "source": [
    "**Hint: it is more practical to use natural units than SI in the code implementation.**"
   ]
  },
  {
   "cell_type": "code",
   "execution_count": 63,
   "id": "7a4dc2da",
   "metadata": {},
   "outputs": [],
   "source": [
    "roc3 = ROC(3)\n",
    "alpha3, beta3 = roc3.pair()\n",
    "\n",
    "roc4 = ROC(4)\n",
    "alpha4, beta4 = roc4.pair()\n",
    "\n",
    "roc6 = ROC(6)\n",
    "alpha6, beta6 = roc6.pair()"
   ]
  },
  {
   "cell_type": "code",
   "execution_count": null,
   "id": "41a0e5dc",
   "metadata": {},
   "outputs": [],
   "source": []
  },
  {
   "cell_type": "code",
   "execution_count": 65,
   "id": "32f5a252",
   "metadata": {},
   "outputs": [
    {
     "data": {
      "text/plain": [
       "<matplotlib.legend.Legend at 0x1457b3f70>"
      ]
     },
     "execution_count": 65,
     "metadata": {},
     "output_type": "execute_result"
    },
    {
     "data": {
      "image/png": "[encoded data removed]",
      "text/plain": [
       "<Figure size 640x480 with 1 Axes>"
      ]
     },
     "metadata": {},
     "output_type": "display_data"
    }
   ],
   "source": [
    "plt.plot(alpha3, beta3, label = \"3 GeV/c\")\n",
    "plt.plot(alpha4, beta4, label = \"4 GeV/c\")\n",
    "plt.plot(alpha6, beta6, label = \"6 GeV/c\")\n",
    "plt.ylabel(\"Beta\")\n",
    "plt.xlabel(\"Alpha\")\n",
    "plt.legend()\n"
   ]
  },
  {
   "attachments": {},
   "cell_type": "markdown",
   "id": "e95589ad",
   "metadata": {},
   "source": [
    "The best performance is given by the value of momentum of 3 GeV/c as for this one, for a give value of alpha we get the highest power of 1 - beta. And it is the line closer to the origin."
   ]
  },
  {
   "cell_type": "code",
   "execution_count": null,
   "id": "83df5ad8",
   "metadata": {},
   "outputs": [],
   "source": []
  },
  {
   "cell_type": "markdown",
   "id": "62f560b1",
   "metadata": {},
   "source": [
    "## Problem #3 (2 points for 3.1, and 3 points for 3.2)"
   ]
  },
  {
   "cell_type": "markdown",
   "id": "4a57381b",
   "metadata": {},
   "source": [
    "**In 1992, the ARGUS e+e− experiment reported the observation of the charmed and doubly strange baryon Ωc through its decay channel Ξ K π π . The obtained mass spectrum is shown in the figure below.**"
   ]
  },
  {
   "cell_type": "code",
   "execution_count": 118,
   "id": "b3ab929f",
   "metadata": {},
   "outputs": [
    {
     "name": "stdout",
     "output_type": "stream",
     "text": [
      "total # of events = 43.0 # of bins= 50\n"
     ]
    },
    {
     "data": {
      "image/png": "[encoded data removed]",
      "text/plain": [
       "<Figure size 640x480 with 1 Axes>"
      ]
     },
     "metadata": {},
     "output_type": "display_data"
    }
   ],
   "source": [
    "import matplotlib.pyplot as plt \n",
    "import numpy as np\n",
    "%matplotlib inline\n",
    "nbins = 50\n",
    "XMIN = 2.4 # in GeV\n",
    "XMAX = 3.0 # in GeV\n",
    "bins = np.linspace(XMIN, XMAX, nbins)\n",
    "counts = np.array([0, 0, 1, 2, 0, 1, 1, 0, 0, 1, 2, 1, 1, 2, 1, 0, 0, 0, 2, 1, 1,\n",
    "0, 1, 1, 1, 3, 3, 4, 2, 0, 1, 0, 1, 0, 1, 1, 0, 0, 0, 1, 0, 1, 0, 0, 1, 2, 0, 2, 0, 0]).astype(float)\n",
    "tot = 0\n",
    "for i in counts:\n",
    "    tot += i\n",
    "print(\"total # of events =\",tot, \"# of bins=\",len(counts))\n",
    "plt.hist(bins, bins=len(counts),weights=counts, range=(min(bins), max(bins))) \n",
    "plt.show()"
   ]
  },
  {
   "cell_type": "markdown",
   "id": "d84256a1",
   "metadata": {},
   "source": [
    "## 3.1 "
   ]
  },
  {
   "cell_type": "markdown",
   "id": "118b7329",
   "metadata": {},
   "source": [
    "**(a) Assuming that all the events are caused by background, calculate the average number of backgrounds events per bin.**"
   ]
  },
  {
   "cell_type": "code",
   "execution_count": 119,
   "id": "d8983639",
   "metadata": {},
   "outputs": [
    {
     "name": "stdout",
     "output_type": "stream",
     "text": [
      "Average number of backgrounds events per bin = 0.86\n"
     ]
    }
   ],
   "source": [
    "average = tot / len(counts)\n",
    "\n",
    "print(\"Average number of backgrounds events per bin = \" + str(average))"
   ]
  },
  {
   "cell_type": "markdown",
   "id": "bdf4c8d8",
   "metadata": {},
   "source": [
    "**(b) Use method numpy.argmax to find the location of the peak in the mass spectrum (in GeV).**"
   ]
  },
  {
   "cell_type": "code",
   "execution_count": 120,
   "id": "2d965be4",
   "metadata": {},
   "outputs": [
    {
     "name": "stdout",
     "output_type": "stream",
     "text": [
      "Location of the peak = 2.730612244897959 GeV\n"
     ]
    }
   ],
   "source": [
    "loc = bins[np.argmax(counts)]\n",
    "print(\"Location of the peak = \" + str(loc) + \" GeV\")"
   ]
  },
  {
   "cell_type": "markdown",
   "id": "29c26103",
   "metadata": {},
   "source": [
    "**(c) Define a ±2.5σ window around the peak (σ = 12 MeV, the width of the histogram bin), and count the total number of events Nobs in this window (use 5 bins in total, with the middle bin containing the peak).**"
   ]
  },
  {
   "cell_type": "code",
   "execution_count": 121,
   "id": "b43c53c1",
   "metadata": {},
   "outputs": [
    {
     "name": "stdout",
     "output_type": "stream",
     "text": [
      "Number of events in the window = 12.0\n"
     ]
    }
   ],
   "source": [
    "sigma = 0.012  \n",
    "window = 2.5*sigma\n",
    "\n",
    "w_ind = np.where((bins >= peak_mass - window) & (bins <= peak_mass + window))[0]\n",
    "\n",
    "Nobs = np.sum(counts[w_ind])\n",
    "\n",
    "print(\"Number of events in the window = \" + str (Nobs))"
   ]
  },
  {
   "cell_type": "markdown",
   "id": "abac7230",
   "metadata": {},
   "source": [
    "**(d) Estimate the number of expected background events within the window Nbgd, and calculate the probability for a Poisson distribution with mean Nbgd to produce Nobs or more events, and the number of standard devia- tions it corresponds to.\n",
    "Hint #1: Use scipy.stats.poisson (scipy’s Poisson distribution), and its method pmf or sf.\n",
    "Hint #2: Use scipy.special.erfinv(1 - pvalue) * np.sqrt(2) to convert a p-value into the corresponding number of standard deviations.**"
   ]
  },
  {
   "cell_type": "code",
   "execution_count": 123,
   "id": "cf0398da",
   "metadata": {},
   "outputs": [
    {
     "name": "stdout",
     "output_type": "stream",
     "text": [
      "Number of expected background events within the window = 4.3\n"
     ]
    }
   ],
   "source": [
    "Nbgd = average*2.5*2\n",
    "print(\"Number of expected background events within the window = \" + str(Nbgd))"
   ]
  },
  {
   "cell_type": "code",
   "execution_count": 127,
   "id": "542eb5b0",
   "metadata": {},
   "outputs": [],
   "source": [
    "from scipy.special import erfinv\n",
    "from scipy.stats import poisson\n",
    "from scipy.integrate import simpson"
   ]
  },
  {
   "cell_type": "code",
   "execution_count": 135,
   "id": "8e3edf9b",
   "metadata": {},
   "outputs": [
    {
     "name": "stdout",
     "output_type": "stream",
     "text": [
      "Probability = 0.59%\n",
      "Number of standard deviations = 2.753938683162209\n"
     ]
    }
   ],
   "source": [
    "values = np.arange(Nobs)\n",
    "\n",
    "\n",
    "distribution =poisson.pmf(values,Nbgd)\n",
    "pvalue = 1 - simpson(distribution, values)\n",
    "\n",
    "prob = pvalue *100\n",
    "\n",
    "print(\"Probability = \" + str(np.round(prob,2)) + \"%\")\n",
    "\n",
    "n_sigmas = erfinv(1 - pvalue)* np.sqrt(2)\n",
    "\n",
    "\n",
    "print(\"Number of standard deviations = \" + str(n_sigmas))"
   ]
  },
  {
   "cell_type": "markdown",
   "id": "9d3d664c",
   "metadata": {},
   "source": [
    "## 3.2 We will repeat the significance evaluation, this time by doing a signal-plus- background (H1) and a background-only (H0) fits. Most of the code we will need here has been developed in (and can be recycled from) the Week-8, CP#5."
   ]
  },
  {
   "cell_type": "markdown",
   "id": "638f25ed",
   "metadata": {},
   "source": [
    "**(a) Write two classes, Flat (to describe the flat background), and Gaussian (to describe the hypothetical signal). Class Flat should be a simplified version of class Linear developed for the Week-8, CP#5.**"
   ]
  },
  {
   "cell_type": "code",
   "execution_count": 139,
   "id": "c3669a19",
   "metadata": {},
   "outputs": [],
   "source": [
    "class Flat:\n",
    "\n",
    "    def __init__(self,constant, minval, maxval, mass):\n",
    "        self.constant = constant \n",
    "        self.minval = minval\n",
    "        self.maxval = maxval    \n",
    "        self.mass = mass\n",
    "\n",
    "    def pdf(self):\n",
    "\n",
    "        pdf = lambda x : constant + 0*x + 0*x**2\n",
    "        int = integrate.quad(pdf, minval, maxval)[0]\n",
    "\n",
    "        return pdf/int"
   ]
  },
  {
   "cell_type": "code",
   "execution_count": 140,
   "id": "1bb9e8e1",
   "metadata": {},
   "outputs": [],
   "source": [
    "class Gaussian:\n",
    "\n",
    "    def __init__(self,constant, minval, maxval, mass, mean, sigma = sigma):\n",
    "        self.constant = constant \n",
    "        self.minval = minval\n",
    "        self.maxval = maxval    \n",
    "        self.mass = mass\n",
    "        self.mean = mean\n",
    "        self.sigma = sigma\n",
    "\n",
    "    def pdf(self):\n",
    "\n",
    "        pdf = lambda x : constant + 0*x + 0*x**2 + (1/(self.sigma*np.sqrt(2*np.pi))) * np.exp(-(np.array(x)-self.mean)**2 / (2*(self.sigma**2))) \n",
    "        int = integrate.quad(pdf, minval, maxval)[0]\n",
    "\n",
    "        return pdf/int"
   ]
  },
  {
   "cell_type": "markdown",
   "id": "9fd6c5a3",
   "metadata": {},
   "source": [
    "**(b) We will need a minimiser that returns the χ2 (as minimised by the fit). As discussed in previous weeks, you are welcome to use your favourite minimiser (and you should really have one available by now). Examples: iminuit, your own custom implementation of the log-likelihood, or the (χ2-equivalent of the) log-likelihood for a binned fit, as described in the Week-8 lecture notes (and in Ref. [6]).**"
   ]
  },
  {
   "attachments": {},
   "cell_type": "markdown",
   "id": "36c848f5",
   "metadata": {},
   "source": [
    "**(c) Unlike what we had done in Week-8, here we will assume that we do not know the location (i.e. Gaussian mean) of the hypothetical signal, but we do know its width (Gaussian sigma, equal to the width of the histogram bin). We will perform 1 + N fits: the first one for the H0 hypothesis, and the remaining N fits will scan the mass spectrum by assuming each time that the location of the signal is fixed at the centre of the i-th bin. For each of the N fits, calculate the χ2(H0) − χ2(H1) difference. Put all these values into a histogram, and plot it.**"
   ]
  },
  {
   "cell_type": "code",
   "execution_count": 141,
   "id": "a79953dc",
   "metadata": {},
   "outputs": [],
   "source": [
    "# The minimiser I am more used to using in this course is minuit, using the following structure:"
   ]
  },
  {
   "cell_type": "code",
   "execution_count": null,
   "id": "4e2dcb83",
   "metadata": {},
   "outputs": [],
   "source": [
    "# Define the negative of the log of the joint likelihood for the normalized combined function\n",
    "\n",
    "def NLL_func(F, M,b,c):\n",
    "\n",
    "    return -np.sum(np.log(pdf_comb_2(data, F, M,b,c)))"
   ]
  },
  {
   "cell_type": "code",
   "execution_count": null,
   "id": "5c5f1b9a",
   "metadata": {},
   "outputs": [],
   "source": [
    "# Estimate best value of lifetime by minimising NLL using Minuit\n",
    "\n",
    "m_comb_2 = Minuit(NLL_func_comb_2, F = 0.9, M = 2.5, b = -0.016, c=0.007)\n",
    "\n",
    "m_comb_2.errordef = Minuit.LIKELIHOOD\n",
    "m_comb_2.migrad()  # run optimiser\n",
    "m_comb_2.hesse()   # run covariance estimator\n",
    "\n",
    "print(m_comb_2.values)  # print estimated values\n",
    "print(m_comb_2.errors)  # print error of the estimated values"
   ]
  },
  {
   "cell_type": "markdown",
   "id": "66a2f6a5",
   "metadata": {},
   "source": [
    "**(d) Find the maximum value of the χ2 (H0 )−χ2 (H1 ) array (using numpy.amax). Use (Wilk’s theorem, and) previously seen scipy methods stats.chi2.cdf and special.erfinv to calculate the significance of the deviation.**"
   ]
  },
  {
   "cell_type": "code",
   "execution_count": null,
   "id": "adb1e707",
   "metadata": {},
   "outputs": [],
   "source": [
    "\n",
    "n_sigmas = erfinv(1 - pvalue)* np.sqrt(2)"
   ]
  },
  {
   "cell_type": "code",
   "execution_count": null,
   "id": "dc7c18e8",
   "metadata": {},
   "outputs": [],
   "source": []
  },
  {
   "cell_type": "code",
   "execution_count": null,
   "id": "615ed5b4",
   "metadata": {},
   "outputs": [],
   "source": []
  }
 ],
 "metadata": {
  "kernelspec": {
   "display_name": "daml",
   "language": "python",
   "name": "python3"
  },
  "language_info": {
   "codemirror_mode": {
    "name": "ipython",
    "version": 3
   },
   "file_extension": ".py",
   "mimetype": "text/x-python",
   "name": "python",
   "nbconvert_exporter": "python",
   "pygments_lexer": "ipython3",
   "version": "3.9.13"
  },
  "vscode": {
   "interpreter": {
    "hash": "aa8f7fdf83b5f1ccd18250a318def58717bab35df4bdf7bdaa576d57998f1146"
   }
  }
 },
 "nbformat": 4,
 "nbformat_minor": 5
}
